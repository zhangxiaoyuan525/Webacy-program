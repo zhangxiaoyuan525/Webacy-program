{
  "nbformat": 4,
  "nbformat_minor": 0,
  "metadata": {
    "colab": {
      "provenance": [],
      "authorship_tag": "ABX9TyOF/hGre3xyvzuwkIHT4wuh",
      "include_colab_link": true
    },
    "kernelspec": {
      "name": "python3",
      "display_name": "Python 3"
    },
    "language_info": {
      "name": "python"
    }
  },
  "cells": [
    {
      "cell_type": "markdown",
      "metadata": {
        "id": "view-in-github",
        "colab_type": "text"
      },
      "source": [
        "<a href=\"https://colab.research.google.com/github/zhangxiaoyuan525/Webacy-program/blob/main/Clustering_Analysis_of_Smart_Contract_Risk_Tags_.ipynb\" target=\"_parent\"><img src=\"https://colab.research.google.com/assets/colab-badge.svg\" alt=\"Open In Colab\"/></a>"
      ]
    },
    {
      "cell_type": "markdown",
      "source": [
        "# Clustering Analysis of Smart Contracts"
      ],
      "metadata": {
        "id": "pvpPbZlJbv87"
      }
    },
    {
      "cell_type": "markdown",
      "source": [
        "**INTRODUCTION**\n",
        "\n"
      ],
      "metadata": {
        "id": "siBRPpxRb73x"
      }
    },
    {
      "cell_type": "markdown",
      "source": [
        "Smart contracts are autonomous digital agreements encoded on blockchain platforms, pivotal for powering decentralized applications. Their self-executing nature, premised on predefined conditions within the blockchain, provides a revolutionary mechanism for agreement automation and enforcement without the need for traditional intermediaries. However, this innovation is not without its challenges. The immutable and transparent characteristics of smart contracts, while beneficial for security and trust, inherently carry significant vulnerabilities. These vulnerabilities, if exploited due to any flaws in contract design or logic, can lead to dire consequences such as considerable financial losses and breaches of data integrity.\n",
        "\n",
        "Given the critical role that smart contracts play in the blockchain ecosystem, it is essential to employ comprehensive risk management strategies to address these vulnerabilities effectively. Among these strategies, clustering analysis emerges as a powerful tool to enhance the understanding and mitigation of smart contract risks:\n",
        "\n",
        "\n",
        "1.   **Cluster-Based Risk Identification:**\n",
        "\n",
        "\n",
        "*   **Categorization of Risks:** Clustering analysis allows for the grouping of similar risk types based on their characteristics and behaviors within the smart contract framework. This aids in categorizing risks into distinct clusters that can be studied and addressed collectively.\n",
        "*   **Insight into Common Patterns:** By observing how different risks cluster together, developers and security analysts can identify common patterns and triggers of vulnerabilities, facilitating targeted interventions.\n",
        "\n",
        "\n",
        "2.   **Enhanced Mitigation Strategies:**\n",
        "\n",
        "\n",
        "*   **Focused Remediation Efforts:** Understanding the cluster dynamics of smart contract risks enables developers to tailor specific mitigation strategies that are more focused and effective, rather than applying broad, generic solutions.\n",
        "*   **Preventive Measures:** Clustering analysis not only helps in reacting to existing risks but also in anticipating potential vulnerabilities. This predictive capability allows for the implementation of preventive measures, reducing the likelihood of risk manifestation.\n",
        "\n",
        "3. **Efficient Resource Allocation:**\n",
        "\n",
        "\n",
        "*   **Prioritization of High-Risk Clusters:** By determining which clusters represent a higher threat or are more frequent, resources can be strategically allocated to address the most critical vulnerabilities first.\n",
        "\n",
        "In summary, clustering analysis is an indispensable analytical technique in the arsenal of blockchain developers and security experts focused on smart contracts. By systematically grouping and analyzing the risks associated with these digital agreements, the blockchain community can enhance its defensive measures, thereby fostering a more secure and resilient environment for deploying smart contracts. This proactive and strategic approach to risk management is pivotal in advancing the reliability and trustworthiness of blockchain technology. Let's delve deeper into how clustering analysis can revolutionize smart contract security.\n",
        "\n",
        "\n",
        "\n"
      ],
      "metadata": {
        "id": "kzkY--iAn0sm"
      }
    },
    {
      "cell_type": "markdown",
      "source": [
        "Now before we explore the data, we need to load necessary libraries in Python and load the data into this project to make whole progress well prepared."
      ],
      "metadata": {
        "id": "lTNGSkoCpQUt"
      }
    },
    {
      "cell_type": "markdown",
      "source": [
        "###Step 1: Import libraries"
      ],
      "metadata": {
        "id": "5vj5anTpcMuG"
      }
    },
    {
      "cell_type": "code",
      "execution_count": null,
      "metadata": {
        "colab": {
          "base_uri": "https://localhost:8080/"
        },
        "id": "qslTXeqcblRG",
        "outputId": "992bad7e-2c12-4653-f75b-381000b71c2e"
      },
      "outputs": [
        {
          "output_type": "stream",
          "name": "stdout",
          "text": [
            "Libraries imported successfully!\n"
          ]
        }
      ],
      "source": [
        "#Import necessary Python libraries\n",
        "\n",
        "import pandas as pd\n",
        "import numpy as np\n",
        "import matplotlib.pyplot as plt\n",
        "import seaborn as sns\n",
        "import scipy.cluster.hierarchy as sch\n",
        "from scipy.spatial.distance import pdist, squareform\n",
        "from scipy.cluster.hierarchy import fcluster\n",
        "\n",
        "print(\"Libraries imported successfully!\")\n"
      ]
    },
    {
      "cell_type": "markdown",
      "source": [
        "###Step 2: Download the Dataset and Load the Data Section"
      ],
      "metadata": {
        "id": "ByK4KiCwk5bs"
      }
    },
    {
      "cell_type": "markdown",
      "source": [
        "Now we are going to load the targetted data set into our Python enviroment. For this we will utilize the Pandas library."
      ],
      "metadata": {
        "id": "tr21uWl8rwpn"
      }
    },
    {
      "cell_type": "code",
      "source": [
        "# Loading the dataset\n",
        "url = 'https://docs.google.com/spreadsheets/d/e/2PACX-1vTKEMHMAzQdcP_vAhfBQprgVzDxlaT4Xc_4R6dOHNQC38Isc4EjXwaUHyD88tPMNA/pub?output=csv'\n",
        "data = pd.read_csv(url)\n",
        "# Display the first five rows of the dataframe\n",
        "data.head()"
      ],
      "metadata": {
        "colab": {
          "base_uri": "https://localhost:8080/",
          "height": 429
        },
        "id": "mADReucS6-5e",
        "outputId": "48b257b3-7dc3-4654-d27e-bbebed736647"
      },
      "execution_count": null,
      "outputs": [
        {
          "output_type": "execute_result",
          "data": {
            "text/plain": [
              "     project_name                      Smart contract address  \\\n",
              "0  Data Analytics    384571416209d08623c6ace9422613fc8970475d   \n",
              "1  Data Analytics   0xAb5801a7D398351b8bE11C439e05C5B3259ae9B   \n",
              "2  Data Analytics  0x4B20993Bc481177ec7E8f571ceCaE8A9e22C02db   \n",
              "3  Data Analytics  0x78731D3Ca6b7E34aC0F824c42a7cC18A495cabaB   \n",
              "4  Data Analytics  0x617F2E2fD72FD9D5503197092aC168c91465E7f2   \n",
              "\n",
              "                                      Blog post link  \\\n",
              "0  https://chainsecurity.com/security-audit/circl...   \n",
              "1  https://stackoverflow.com/questions/75030483/w...   \n",
              "2  https://stackoverflow.com/questions/71115106/s...   \n",
              "3  https://stackoverflow.com/questions/75030483/w...   \n",
              "4  https://stackoverflow.com/questions/69466137/h...   \n",
              "\n",
              "                                       Audit website     Chain  \\\n",
              "0                          https://chainsecurity.com  Ethereum   \n",
              "1  https://studygroup.moralis.io/t/compilation-er...  Ethereum   \n",
              "2  https://ethereum.stackexchange.com/questions/1...  Ethereum   \n",
              "3  https://studygroup.moralis.io/t/compilation-er...  Ethereum   \n",
              "4  https://ethereum.stackexchange.com/questions/1...  Ethereum   \n",
              "\n",
              "   Is_closed_source  hidden_owner  anti_whale_modifiable  Is_anti_whale  \\\n",
              "0             False         False                  False          False   \n",
              "1             False         False                   True           True   \n",
              "2              True         False                  False           True   \n",
              "3              True         False                  False          False   \n",
              "4              True         False                   True          False   \n",
              "\n",
              "   Is_honeypot  ...  centralized_risk_high  centralized_risk_low  \\\n",
              "0        False  ...                  False                 False   \n",
              "1        False  ...                  False                  True   \n",
              "2        False  ...                  False                  True   \n",
              "3         True  ...                  False                  True   \n",
              "4         True  ...                  False                 False   \n",
              "\n",
              "   event_setter  external_dependencies  immutable_states  \\\n",
              "0          True                   True              True   \n",
              "1         False                   True             False   \n",
              "2         False                   True             False   \n",
              "3         False                  False              True   \n",
              "4          True                   True             False   \n",
              "\n",
              "   reentrancy_without_eth_transfer  incorrect_inheritance_order  \\\n",
              "0                             True                        False   \n",
              "1                            False                         True   \n",
              "2                            False                        False   \n",
              "3                             True                        False   \n",
              "4                             True                        False   \n",
              "\n",
              "   shadowing_local  events_maths  \\\n",
              "0            False         False   \n",
              "1            False          True   \n",
              "2             True          True   \n",
              "3            False          True   \n",
              "4            False          True   \n",
              "\n",
              "          Summary/rationale of risk tags marked true  \n",
              "0  Bad Contract: Assigned for flaws that indicate...  \n",
              "1  Summary/rationale of risk tags marked true: Th...  \n",
              "2                                                NaN  \n",
              "3                                                NaN  \n",
              "4  The smart contract is marked with risks such a...  \n",
              "\n",
              "[5 rows x 38 columns]"
            ],
            "text/html": [
              "\n",
              "  <div id=\"df-8b02b17a-7947-4121-ab46-8b80c3c017b7\" class=\"colab-df-container\">\n",
              "    <div>\n",
              "<style scoped>\n",
              "    .dataframe tbody tr th:only-of-type {\n",
              "        vertical-align: middle;\n",
              "    }\n",
              "\n",
              "    .dataframe tbody tr th {\n",
              "        vertical-align: top;\n",
              "    }\n",
              "\n",
              "    .dataframe thead th {\n",
              "        text-align: right;\n",
              "    }\n",
              "</style>\n",
              "<table border=\"1\" class=\"dataframe\">\n",
              "  <thead>\n",
              "    <tr style=\"text-align: right;\">\n",
              "      <th></th>\n",
              "      <th>project_name</th>\n",
              "      <th>Smart contract address</th>\n",
              "      <th>Blog post link</th>\n",
              "      <th>Audit website</th>\n",
              "      <th>Chain</th>\n",
              "      <th>Is_closed_source</th>\n",
              "      <th>hidden_owner</th>\n",
              "      <th>anti_whale_modifiable</th>\n",
              "      <th>Is_anti_whale</th>\n",
              "      <th>Is_honeypot</th>\n",
              "      <th>...</th>\n",
              "      <th>centralized_risk_high</th>\n",
              "      <th>centralized_risk_low</th>\n",
              "      <th>event_setter</th>\n",
              "      <th>external_dependencies</th>\n",
              "      <th>immutable_states</th>\n",
              "      <th>reentrancy_without_eth_transfer</th>\n",
              "      <th>incorrect_inheritance_order</th>\n",
              "      <th>shadowing_local</th>\n",
              "      <th>events_maths</th>\n",
              "      <th>Summary/rationale of risk tags marked true</th>\n",
              "    </tr>\n",
              "  </thead>\n",
              "  <tbody>\n",
              "    <tr>\n",
              "      <th>0</th>\n",
              "      <td>Data Analytics</td>\n",
              "      <td>384571416209d08623c6ace9422613fc8970475d</td>\n",
              "      <td>https://chainsecurity.com/security-audit/circl...</td>\n",
              "      <td>https://chainsecurity.com</td>\n",
              "      <td>Ethereum</td>\n",
              "      <td>False</td>\n",
              "      <td>False</td>\n",
              "      <td>False</td>\n",
              "      <td>False</td>\n",
              "      <td>False</td>\n",
              "      <td>...</td>\n",
              "      <td>False</td>\n",
              "      <td>False</td>\n",
              "      <td>True</td>\n",
              "      <td>True</td>\n",
              "      <td>True</td>\n",
              "      <td>True</td>\n",
              "      <td>False</td>\n",
              "      <td>False</td>\n",
              "      <td>False</td>\n",
              "      <td>Bad Contract: Assigned for flaws that indicate...</td>\n",
              "    </tr>\n",
              "    <tr>\n",
              "      <th>1</th>\n",
              "      <td>Data Analytics</td>\n",
              "      <td>0xAb5801a7D398351b8bE11C439e05C5B3259ae9B</td>\n",
              "      <td>https://stackoverflow.com/questions/75030483/w...</td>\n",
              "      <td>https://studygroup.moralis.io/t/compilation-er...</td>\n",
              "      <td>Ethereum</td>\n",
              "      <td>False</td>\n",
              "      <td>False</td>\n",
              "      <td>True</td>\n",
              "      <td>True</td>\n",
              "      <td>False</td>\n",
              "      <td>...</td>\n",
              "      <td>False</td>\n",
              "      <td>True</td>\n",
              "      <td>False</td>\n",
              "      <td>True</td>\n",
              "      <td>False</td>\n",
              "      <td>False</td>\n",
              "      <td>True</td>\n",
              "      <td>False</td>\n",
              "      <td>True</td>\n",
              "      <td>Summary/rationale of risk tags marked true: Th...</td>\n",
              "    </tr>\n",
              "    <tr>\n",
              "      <th>2</th>\n",
              "      <td>Data Analytics</td>\n",
              "      <td>0x4B20993Bc481177ec7E8f571ceCaE8A9e22C02db</td>\n",
              "      <td>https://stackoverflow.com/questions/71115106/s...</td>\n",
              "      <td>https://ethereum.stackexchange.com/questions/1...</td>\n",
              "      <td>Ethereum</td>\n",
              "      <td>True</td>\n",
              "      <td>False</td>\n",
              "      <td>False</td>\n",
              "      <td>True</td>\n",
              "      <td>False</td>\n",
              "      <td>...</td>\n",
              "      <td>False</td>\n",
              "      <td>True</td>\n",
              "      <td>False</td>\n",
              "      <td>True</td>\n",
              "      <td>False</td>\n",
              "      <td>False</td>\n",
              "      <td>False</td>\n",
              "      <td>True</td>\n",
              "      <td>True</td>\n",
              "      <td>NaN</td>\n",
              "    </tr>\n",
              "    <tr>\n",
              "      <th>3</th>\n",
              "      <td>Data Analytics</td>\n",
              "      <td>0x78731D3Ca6b7E34aC0F824c42a7cC18A495cabaB</td>\n",
              "      <td>https://stackoverflow.com/questions/75030483/w...</td>\n",
              "      <td>https://studygroup.moralis.io/t/compilation-er...</td>\n",
              "      <td>Ethereum</td>\n",
              "      <td>True</td>\n",
              "      <td>False</td>\n",
              "      <td>False</td>\n",
              "      <td>False</td>\n",
              "      <td>True</td>\n",
              "      <td>...</td>\n",
              "      <td>False</td>\n",
              "      <td>True</td>\n",
              "      <td>False</td>\n",
              "      <td>False</td>\n",
              "      <td>True</td>\n",
              "      <td>True</td>\n",
              "      <td>False</td>\n",
              "      <td>False</td>\n",
              "      <td>True</td>\n",
              "      <td>NaN</td>\n",
              "    </tr>\n",
              "    <tr>\n",
              "      <th>4</th>\n",
              "      <td>Data Analytics</td>\n",
              "      <td>0x617F2E2fD72FD9D5503197092aC168c91465E7f2</td>\n",
              "      <td>https://stackoverflow.com/questions/69466137/h...</td>\n",
              "      <td>https://ethereum.stackexchange.com/questions/1...</td>\n",
              "      <td>Ethereum</td>\n",
              "      <td>True</td>\n",
              "      <td>False</td>\n",
              "      <td>True</td>\n",
              "      <td>False</td>\n",
              "      <td>True</td>\n",
              "      <td>...</td>\n",
              "      <td>False</td>\n",
              "      <td>False</td>\n",
              "      <td>True</td>\n",
              "      <td>True</td>\n",
              "      <td>False</td>\n",
              "      <td>True</td>\n",
              "      <td>False</td>\n",
              "      <td>False</td>\n",
              "      <td>True</td>\n",
              "      <td>The smart contract is marked with risks such a...</td>\n",
              "    </tr>\n",
              "  </tbody>\n",
              "</table>\n",
              "<p>5 rows × 38 columns</p>\n",
              "</div>\n",
              "    <div class=\"colab-df-buttons\">\n",
              "\n",
              "  <div class=\"colab-df-container\">\n",
              "    <button class=\"colab-df-convert\" onclick=\"convertToInteractive('df-8b02b17a-7947-4121-ab46-8b80c3c017b7')\"\n",
              "            title=\"Convert this dataframe to an interactive table.\"\n",
              "            style=\"display:none;\">\n",
              "\n",
              "  <svg xmlns=\"http://www.w3.org/2000/svg\" height=\"24px\" viewBox=\"0 -960 960 960\">\n",
              "    <path d=\"M120-120v-720h720v720H120Zm60-500h600v-160H180v160Zm220 220h160v-160H400v160Zm0 220h160v-160H400v160ZM180-400h160v-160H180v160Zm440 0h160v-160H620v160ZM180-180h160v-160H180v160Zm440 0h160v-160H620v160Z\"/>\n",
              "  </svg>\n",
              "    </button>\n",
              "\n",
              "  <style>\n",
              "    .colab-df-container {\n",
              "      display:flex;\n",
              "      gap: 12px;\n",
              "    }\n",
              "\n",
              "    .colab-df-convert {\n",
              "      background-color: #E8F0FE;\n",
              "      border: none;\n",
              "      border-radius: 50%;\n",
              "      cursor: pointer;\n",
              "      display: none;\n",
              "      fill: #1967D2;\n",
              "      height: 32px;\n",
              "      padding: 0 0 0 0;\n",
              "      width: 32px;\n",
              "    }\n",
              "\n",
              "    .colab-df-convert:hover {\n",
              "      background-color: #E2EBFA;\n",
              "      box-shadow: 0px 1px 2px rgba(60, 64, 67, 0.3), 0px 1px 3px 1px rgba(60, 64, 67, 0.15);\n",
              "      fill: #174EA6;\n",
              "    }\n",
              "\n",
              "    .colab-df-buttons div {\n",
              "      margin-bottom: 4px;\n",
              "    }\n",
              "\n",
              "    [theme=dark] .colab-df-convert {\n",
              "      background-color: #3B4455;\n",
              "      fill: #D2E3FC;\n",
              "    }\n",
              "\n",
              "    [theme=dark] .colab-df-convert:hover {\n",
              "      background-color: #434B5C;\n",
              "      box-shadow: 0px 1px 3px 1px rgba(0, 0, 0, 0.15);\n",
              "      filter: drop-shadow(0px 1px 2px rgba(0, 0, 0, 0.3));\n",
              "      fill: #FFFFFF;\n",
              "    }\n",
              "  </style>\n",
              "\n",
              "    <script>\n",
              "      const buttonEl =\n",
              "        document.querySelector('#df-8b02b17a-7947-4121-ab46-8b80c3c017b7 button.colab-df-convert');\n",
              "      buttonEl.style.display =\n",
              "        google.colab.kernel.accessAllowed ? 'block' : 'none';\n",
              "\n",
              "      async function convertToInteractive(key) {\n",
              "        const element = document.querySelector('#df-8b02b17a-7947-4121-ab46-8b80c3c017b7');\n",
              "        const dataTable =\n",
              "          await google.colab.kernel.invokeFunction('convertToInteractive',\n",
              "                                                    [key], {});\n",
              "        if (!dataTable) return;\n",
              "\n",
              "        const docLinkHtml = 'Like what you see? Visit the ' +\n",
              "          '<a target=\"_blank\" href=https://colab.research.google.com/notebooks/data_table.ipynb>data table notebook</a>'\n",
              "          + ' to learn more about interactive tables.';\n",
              "        element.innerHTML = '';\n",
              "        dataTable['output_type'] = 'display_data';\n",
              "        await google.colab.output.renderOutput(dataTable, element);\n",
              "        const docLink = document.createElement('div');\n",
              "        docLink.innerHTML = docLinkHtml;\n",
              "        element.appendChild(docLink);\n",
              "      }\n",
              "    </script>\n",
              "  </div>\n",
              "\n",
              "\n",
              "<div id=\"df-77082684-0f6e-4e38-adf5-471fdb932a7e\">\n",
              "  <button class=\"colab-df-quickchart\" onclick=\"quickchart('df-77082684-0f6e-4e38-adf5-471fdb932a7e')\"\n",
              "            title=\"Suggest charts\"\n",
              "            style=\"display:none;\">\n",
              "\n",
              "<svg xmlns=\"http://www.w3.org/2000/svg\" height=\"24px\"viewBox=\"0 0 24 24\"\n",
              "     width=\"24px\">\n",
              "    <g>\n",
              "        <path d=\"M19 3H5c-1.1 0-2 .9-2 2v14c0 1.1.9 2 2 2h14c1.1 0 2-.9 2-2V5c0-1.1-.9-2-2-2zM9 17H7v-7h2v7zm4 0h-2V7h2v10zm4 0h-2v-4h2v4z\"/>\n",
              "    </g>\n",
              "</svg>\n",
              "  </button>\n",
              "\n",
              "<style>\n",
              "  .colab-df-quickchart {\n",
              "      --bg-color: #E8F0FE;\n",
              "      --fill-color: #1967D2;\n",
              "      --hover-bg-color: #E2EBFA;\n",
              "      --hover-fill-color: #174EA6;\n",
              "      --disabled-fill-color: #AAA;\n",
              "      --disabled-bg-color: #DDD;\n",
              "  }\n",
              "\n",
              "  [theme=dark] .colab-df-quickchart {\n",
              "      --bg-color: #3B4455;\n",
              "      --fill-color: #D2E3FC;\n",
              "      --hover-bg-color: #434B5C;\n",
              "      --hover-fill-color: #FFFFFF;\n",
              "      --disabled-bg-color: #3B4455;\n",
              "      --disabled-fill-color: #666;\n",
              "  }\n",
              "\n",
              "  .colab-df-quickchart {\n",
              "    background-color: var(--bg-color);\n",
              "    border: none;\n",
              "    border-radius: 50%;\n",
              "    cursor: pointer;\n",
              "    display: none;\n",
              "    fill: var(--fill-color);\n",
              "    height: 32px;\n",
              "    padding: 0;\n",
              "    width: 32px;\n",
              "  }\n",
              "\n",
              "  .colab-df-quickchart:hover {\n",
              "    background-color: var(--hover-bg-color);\n",
              "    box-shadow: 0 1px 2px rgba(60, 64, 67, 0.3), 0 1px 3px 1px rgba(60, 64, 67, 0.15);\n",
              "    fill: var(--button-hover-fill-color);\n",
              "  }\n",
              "\n",
              "  .colab-df-quickchart-complete:disabled,\n",
              "  .colab-df-quickchart-complete:disabled:hover {\n",
              "    background-color: var(--disabled-bg-color);\n",
              "    fill: var(--disabled-fill-color);\n",
              "    box-shadow: none;\n",
              "  }\n",
              "\n",
              "  .colab-df-spinner {\n",
              "    border: 2px solid var(--fill-color);\n",
              "    border-color: transparent;\n",
              "    border-bottom-color: var(--fill-color);\n",
              "    animation:\n",
              "      spin 1s steps(1) infinite;\n",
              "  }\n",
              "\n",
              "  @keyframes spin {\n",
              "    0% {\n",
              "      border-color: transparent;\n",
              "      border-bottom-color: var(--fill-color);\n",
              "      border-left-color: var(--fill-color);\n",
              "    }\n",
              "    20% {\n",
              "      border-color: transparent;\n",
              "      border-left-color: var(--fill-color);\n",
              "      border-top-color: var(--fill-color);\n",
              "    }\n",
              "    30% {\n",
              "      border-color: transparent;\n",
              "      border-left-color: var(--fill-color);\n",
              "      border-top-color: var(--fill-color);\n",
              "      border-right-color: var(--fill-color);\n",
              "    }\n",
              "    40% {\n",
              "      border-color: transparent;\n",
              "      border-right-color: var(--fill-color);\n",
              "      border-top-color: var(--fill-color);\n",
              "    }\n",
              "    60% {\n",
              "      border-color: transparent;\n",
              "      border-right-color: var(--fill-color);\n",
              "    }\n",
              "    80% {\n",
              "      border-color: transparent;\n",
              "      border-right-color: var(--fill-color);\n",
              "      border-bottom-color: var(--fill-color);\n",
              "    }\n",
              "    90% {\n",
              "      border-color: transparent;\n",
              "      border-bottom-color: var(--fill-color);\n",
              "    }\n",
              "  }\n",
              "</style>\n",
              "\n",
              "  <script>\n",
              "    async function quickchart(key) {\n",
              "      const quickchartButtonEl =\n",
              "        document.querySelector('#' + key + ' button');\n",
              "      quickchartButtonEl.disabled = true;  // To prevent multiple clicks.\n",
              "      quickchartButtonEl.classList.add('colab-df-spinner');\n",
              "      try {\n",
              "        const charts = await google.colab.kernel.invokeFunction(\n",
              "            'suggestCharts', [key], {});\n",
              "      } catch (error) {\n",
              "        console.error('Error during call to suggestCharts:', error);\n",
              "      }\n",
              "      quickchartButtonEl.classList.remove('colab-df-spinner');\n",
              "      quickchartButtonEl.classList.add('colab-df-quickchart-complete');\n",
              "    }\n",
              "    (() => {\n",
              "      let quickchartButtonEl =\n",
              "        document.querySelector('#df-77082684-0f6e-4e38-adf5-471fdb932a7e button');\n",
              "      quickchartButtonEl.style.display =\n",
              "        google.colab.kernel.accessAllowed ? 'block' : 'none';\n",
              "    })();\n",
              "  </script>\n",
              "</div>\n",
              "\n",
              "    </div>\n",
              "  </div>\n"
            ],
            "application/vnd.google.colaboratory.intrinsic+json": {
              "type": "dataframe",
              "variable_name": "data"
            }
          },
          "metadata": {},
          "execution_count": 3
        }
      ]
    },
    {
      "cell_type": "code",
      "source": [
        "# Check the data types and null value\n",
        "data.info()"
      ],
      "metadata": {
        "colab": {
          "base_uri": "https://localhost:8080/"
        },
        "id": "exPZtPbA7fZ2",
        "outputId": "c6adbd7b-e588-44fb-c9d0-e34bc3b0b55c"
      },
      "execution_count": null,
      "outputs": [
        {
          "output_type": "stream",
          "name": "stdout",
          "text": [
            "<class 'pandas.core.frame.DataFrame'>\n",
            "RangeIndex: 967 entries, 0 to 966\n",
            "Data columns (total 38 columns):\n",
            " #   Column                                      Non-Null Count  Dtype \n",
            "---  ------                                      --------------  ----- \n",
            " 0   project_name                                967 non-null    object\n",
            " 1   Smart contract address                      967 non-null    object\n",
            " 2   Blog post link                              967 non-null    object\n",
            " 3   Audit website                               967 non-null    object\n",
            " 4   Chain                                       967 non-null    object\n",
            " 5   Is_closed_source                            967 non-null    bool  \n",
            " 6   hidden_owner                                967 non-null    bool  \n",
            " 7   anti_whale_modifiable                       967 non-null    bool  \n",
            " 8   Is_anti_whale                               967 non-null    bool  \n",
            " 9   Is_honeypot                                 967 non-null    bool  \n",
            " 10  buy_tax                                     967 non-null    bool  \n",
            " 11  sell_tax                                    967 non-null    bool  \n",
            " 12  slippage_modifiable                         967 non-null    bool  \n",
            " 13  Is_blacklisted                              967 non-null    bool  \n",
            " 14  can_take_back_ownership                     967 non-null    bool  \n",
            " 15  owner_change_balance                        967 non-null    bool  \n",
            " 16  is_airdrop_scam                             967 non-null    bool  \n",
            " 17  selfdestruct                                967 non-null    bool  \n",
            " 18  trust_list                                  967 non-null    bool  \n",
            " 19  is_whitelisted                              967 non-null    bool  \n",
            " 20  is_fake_token                               967 non-null    bool  \n",
            " 21  illegal_unicode                             967 non-null    bool  \n",
            " 22  exploitation                                967 non-null    bool  \n",
            " 23  bad_contract                                966 non-null    object\n",
            " 24  reusing_state_variable                      966 non-null    object\n",
            " 25  encode_packed_collision                     966 non-null    object\n",
            " 26  encode_packed_parameters                    966 non-null    object\n",
            " 27  centralized_risk_medium                     966 non-null    object\n",
            " 28  centralized_risk_high                       965 non-null    object\n",
            " 29  centralized_risk_low                        966 non-null    object\n",
            " 30  event_setter                                967 non-null    bool  \n",
            " 31  external_dependencies                       967 non-null    bool  \n",
            " 32  immutable_states                            967 non-null    bool  \n",
            " 33  reentrancy_without_eth_transfer             967 non-null    bool  \n",
            " 34  incorrect_inheritance_order                 967 non-null    bool  \n",
            " 35  shadowing_local                             967 non-null    bool  \n",
            " 36  events_maths                                967 non-null    bool  \n",
            " 37  Summary/rationale of risk tags marked true  628 non-null    object\n",
            "dtypes: bool(25), object(13)\n",
            "memory usage: 121.9+ KB\n"
          ]
        }
      ]
    },
    {
      "cell_type": "code",
      "source": [
        "data.columns"
      ],
      "metadata": {
        "id": "svGqgdeO7tRd",
        "outputId": "7e004e6c-4802-4358-e2ec-d196f43c7be3",
        "colab": {
          "base_uri": "https://localhost:8080/"
        }
      },
      "execution_count": null,
      "outputs": [
        {
          "output_type": "execute_result",
          "data": {
            "text/plain": [
              "Index(['project_name', 'Smart contract address', 'Blog post link',\n",
              "       'Audit website', 'Chain', 'Is_closed_source', 'hidden_owner',\n",
              "       'anti_whale_modifiable', 'Is_anti_whale', 'Is_honeypot', 'buy_tax',\n",
              "       'sell_tax', 'slippage_modifiable', 'Is_blacklisted',\n",
              "       'can_take_back_ownership', 'owner_change_balance', 'is_airdrop_scam',\n",
              "       'selfdestruct', 'trust_list', 'is_whitelisted', 'is_fake_token',\n",
              "       'illegal_unicode', 'exploitation', 'bad_contract',\n",
              "       'reusing_state_variable', 'encode_packed_collision',\n",
              "       'encode_packed_parameters', 'centralized_risk_medium',\n",
              "       'centralized_risk_high', 'centralized_risk_low', 'event_setter',\n",
              "       'external_dependencies', 'immutable_states',\n",
              "       'reentrancy_without_eth_transfer', 'incorrect_inheritance_order',\n",
              "       'shadowing_local', 'events_maths',\n",
              "       'Summary/rationale of risk tags marked true'],\n",
              "      dtype='object')"
            ]
          },
          "metadata": {},
          "execution_count": 4
        }
      ]
    },
    {
      "cell_type": "markdown",
      "source": [
        "###Feature Selection"
      ],
      "metadata": {
        "id": "L1ZR27PudK4R"
      }
    },
    {
      "cell_type": "markdown",
      "source": [
        "As we have got the visualization from the frequency and correlation analysis report before (https://colab.research.google.com/drive/1K1TNlo0HXPVhpxH_UFOBt3b8lEUXz5aY?usp=sharing), we could dive deep into these risk tags that marked as most frequent or special to get some insight information from their back."
      ],
      "metadata": {
        "id": "4cSvJ8tbO83m"
      }
    },
    {
      "cell_type": "code",
      "source": [
        "data_new = data.copy()\n",
        "# We are going to analyze the feature of encode_packed_collision, bad_contract, exploitation, buy_tax, sell,tax\n",
        "feature_1 = 'encode_packed_collision'\n",
        "feature_2 = 'bad_contract'\n",
        "feature_3 = 'exploitation'\n",
        "feature_4 = 'buy_tax'\n",
        "feature_5 = 'sell_tax'\n",
        "selected_features = data_new[[feature_1, feature_2, feature_3, feature_4, feature_5]].replace({True:1, False:0})\n",
        "print(\"Features selected for clustering:\")\n",
        "\n",
        "print(selected_features.head)"
      ],
      "metadata": {
        "colab": {
          "base_uri": "https://localhost:8080/"
        },
        "id": "2XGDYJTbO7Zy",
        "outputId": "07c8694b-ff8a-469a-ff48-f62bf3227183"
      },
      "execution_count": null,
      "outputs": [
        {
          "output_type": "stream",
          "name": "stdout",
          "text": [
            "Features selected for clustering:\n",
            "   encode_packed_collision  bad_contract  exploitation  buy_tax  sell_tax\n",
            "0                      0.0           1.0             1        0         0\n",
            "1                      1.0           1.0             0        1         0\n",
            "2                      1.0           0.0             1        0         0\n",
            "3                      1.0           0.0             1        0         1\n",
            "4                      0.0           0.0             1        0         0\n"
          ]
        }
      ]
    },
    {
      "cell_type": "markdown",
      "source": [
        "# Applying Clustering"
      ],
      "metadata": {
        "id": "ZFEiNUXRcbCE"
      }
    },
    {
      "cell_type": "markdown",
      "source": [
        "###Hierarchical Clustering with Jaccard Distance"
      ],
      "metadata": {
        "id": "8hYrchwXcbpJ"
      }
    },
    {
      "cell_type": "markdown",
      "source": [
        "We are going to apply hierarchical clustering to our dataset using Jaccard distance which is particularly effective for datasets with binary arributes as it measures the dissimilarity between sample sets."
      ],
      "metadata": {
        "id": "2A5QwQSLcqeb"
      }
    },
    {
      "cell_type": "markdown",
      "source": [
        "###Compute Jaccard Distance"
      ],
      "metadata": {
        "id": "k17oQl_ccsmI"
      }
    },
    {
      "cell_type": "markdown",
      "source": [
        "Compute the pairwise Jaccard distance between observations.(Jaccard distance is a measure of how dissimilar two sets are, ranging from 0(identical) to 1 (no common elements))."
      ],
      "metadata": {
        "id": "wUf_eCPVcwmp"
      }
    },
    {
      "cell_type": "code",
      "source": [
        "from scipy.spatial.distance import pdist, squareform\n",
        "\n",
        "# Compute Jaccard distance\n",
        "distance_matrix = pdist(selected_features, metric='jaccard')\n",
        "\n",
        "#Convert to square matrix\n",
        "distance_matrix = squareform(distance_matrix)"
      ],
      "metadata": {
        "id": "x2t1CbujcxB3"
      },
      "execution_count": null,
      "outputs": []
    },
    {
      "cell_type": "markdown",
      "source": [
        "###Perform Hierarchical Clustering"
      ],
      "metadata": {
        "id": "P-cRvtHvcGbC"
      }
    },
    {
      "cell_type": "markdown",
      "source": [
        "Using the complete linkage method, weperform hierarchical clustering. Complete linkage considers the maximum distance between observations in two clusters."
      ],
      "metadata": {
        "id": "291oxqUmdE6E"
      }
    },
    {
      "cell_type": "code",
      "source": [
        "import scipy.cluster.hierarchy as sch\n",
        "\n",
        "#Create linkage matrix\n",
        "linkage_matrix = sch.linkage(distance_matrix, method='ward')"
      ],
      "metadata": {
        "colab": {
          "base_uri": "https://localhost:8080/"
        },
        "id": "uUZkuNDSRJuJ",
        "outputId": "4e31e1c1-88d6-470e-cfe6-fe534e79793f"
      },
      "execution_count": null,
      "outputs": [
        {
          "output_type": "stream",
          "name": "stderr",
          "text": [
            "<ipython-input-7-9b50022c90c5>:4: ClusterWarning: The symmetric non-negative hollow observation matrix looks suspiciously like an uncondensed distance matrix\n",
            "  linkage_matrix = sch.linkage(distance_matrix, method='ward')\n"
          ]
        }
      ]
    },
    {
      "cell_type": "code",
      "source": [
        "linkage_matrix"
      ],
      "metadata": {
        "colab": {
          "base_uri": "https://localhost:8080/"
        },
        "id": "5QSdbLfPcDa-",
        "outputId": "d6690839-bd70-4778-c1b0-d5cc115200e7"
      },
      "execution_count": null,
      "outputs": [
        {
          "output_type": "execute_result",
          "data": {
            "text/plain": [
              "array([[   0.        ,    9.        ,    0.        ,    2.        ],\n",
              "       [  28.        ,   45.        ,    0.        ,    2.        ],\n",
              "       [   5.        ,  408.        ,    0.        ,    2.        ],\n",
              "       ...,\n",
              "       [1701.        , 1846.        ,  134.02799708,  345.        ],\n",
              "       [1929.        , 1930.        ,  166.99949839,  575.        ],\n",
              "       [1900.        , 1931.        ,  492.41155731,  967.        ]])"
            ]
          },
          "metadata": {},
          "execution_count": 8
        }
      ]
    },
    {
      "cell_type": "markdown",
      "source": [
        "###PLot the Dendrogram"
      ],
      "metadata": {
        "id": "6rlm02qgdK27"
      }
    },
    {
      "cell_type": "markdown",
      "source": [
        "Visualize the clustering as a dendrogram, which will help us understand the data's hierarchical structure."
      ],
      "metadata": {
        "id": "gosy7naxV3x4"
      }
    },
    {
      "cell_type": "code",
      "source": [
        "# Plot the dendrogram\n",
        "import matplotlib.pyplot as plt\n",
        "\n",
        "plt.figure(figsize=(50, 30))\n",
        "dendrogram = sch.dendrogram(linkage_matrix)\n",
        "plt.title('Hierarchical Clustering Dendrogram')\n",
        "plt.xlabel('Data points')\n",
        "plt.ylabel('Jaccard distance')\n",
        "plt.show()"
      ],
      "metadata": {
        "colab": {
          "base_uri": "https://localhost:8080/",
          "height": 815
        },
        "id": "kknARsMNdH91",
        "outputId": "43543227-758b-47a1-ad46-f59e0c7c60be"
      },
      "execution_count": null,
      "outputs": [
        {
          "output_type": "display_data",
          "data": {
            "text/plain": [
              "<Figure size 5000x3000 with 1 Axes>"
            ],
            "image/png": "[encoded data removed]"
          },
          "metadata": {}
        }
      ]
    },
    {
      "cell_type": "markdown",
      "source": [
        "###Analyze the dendrogram"
      ],
      "metadata": {
        "id": "4_LQyX5KY9K1"
      }
    },
    {
      "cell_type": "markdown",
      "source": [
        "The dendrogram shows how each cluster is linked, with the y-axis representing the distance(dissimilarity) at which clusters are merged. The height of the merge point indicates the similarity between clusters: lower height suggest similarity."
      ],
      "metadata": {
        "id": "aSOtWtSLZCx0"
      }
    },
    {
      "cell_type": "markdown",
      "source": [
        "This is the dendogram that we received from our clustering. Here, Vertical Lines represent individual clusters or data points being linked together. The height of the line where two clusters join indicates the Jaccard distance between those clusters.\n",
        "\n",
        "Horizontal Lines serve as connectors and do not represent distance.\n",
        "It is very clear that we would get two clusters in this case. Some more observations from the dendogram:\n",
        "\n",
        "**Large Blue Vertical Line:**\n",
        "\n",
        "\n",
        "*   **Height:** Extends up to a Jaccard distance of approximately 500, which is significant, suggesting a substantial dissimilarity.\n",
        "*   **Implication:** This large distance before any linkage suggests that the cluster formed at this point significantly differs from the other data points or clusters below this level.\n",
        "\n",
        "\n",
        "\n",
        "\n",
        "**Green Cluster Groupings:**\n",
        "\n",
        "\n",
        "*   **Sub-clusters:** The green lines at the bottom of the dendrogram indicate several small clusters and sub-clusters merging at lower distances.\n",
        "*   **Close Proximity:** These shorter green lines suggest that these data points or sub-clusters are more similar to each other, as they merge at shorter Jaccard distances.\n",
        "\n",
        "\n",
        "\n",
        "\n",
        "\n",
        "\n",
        "**Optimal Number of Clusters Cut-Off Point:**\n",
        "\n",
        " Given the significant jump in distance represented by the tall blue line, a practical cut-off point for determining the number of clusters might be just below this height, which would suggest considering everything below it as separate clusters.\n",
        "\n",
        "**Number of Clusters:** From the dendrogram, it appears that cutting just below the height of around 150 or just above 100 would result in two major clusters:\n",
        "One large cluster grouping almost all the points linked by the green lines which could be seperated into two small clusters.\n",
        "One cluster or outlier represented by the point that joins at the top of the blue line.\n",
        "\n",
        "In this project, we are going to probe this data by 3 clusters."
      ],
      "metadata": {
        "id": "394M8bl-0uVR"
      }
    },
    {
      "cell_type": "markdown",
      "source": [
        "# Visualizing Clusters"
      ],
      "metadata": {
        "id": "YMJEAQ01Zb4e"
      }
    },
    {
      "cell_type": "markdown",
      "source": [
        "Now we are going to visualize the clusters formed based on the selected binary risk tags above."
      ],
      "metadata": {
        "id": "x52-NeffZiEt"
      }
    },
    {
      "cell_type": "code",
      "source": [
        "# Set maximum distance at 1.5 for cluster formation\n",
        "cluster_labels = fcluster(linkage_matrix, t=150, criterion='distance')\n",
        "\n",
        "# Add cluster labels back to the original DataFrame\n",
        "data_new['Cluster'] = cluster_labels\n",
        "\n",
        "#Summary statistics for each cluster\n",
        "cluster_summary = data_new[[feature_1, feature_2, feature_3, feature_4, feature_5, 'Cluster']].groupby('Cluster').agg(['mean', 'std', 'median', 'count'])\n",
        "cluster_summary"
      ],
      "metadata": {
        "colab": {
          "base_uri": "https://localhost:8080/",
          "height": 226
        },
        "id": "EDNyeAp1WJ5q",
        "outputId": "45efa490-ea21-494d-956c-de4fb363e648"
      },
      "execution_count": null,
      "outputs": [
        {
          "output_type": "execute_result",
          "data": {
            "text/plain": [
              "        encode_packed_collision                        bad_contract            \\\n",
              "                           mean       std median count         mean       std   \n",
              "Cluster                                                                         \n",
              "1                           0.0  0.000000    0.0   392          0.0  0.000000   \n",
              "2                      0.349345  0.477808    0.0   229     0.641921  0.480486   \n",
              "3                           0.0  0.000000    0.0   345     0.582609  0.493845   \n",
              "\n",
              "                     exploitation                          buy_tax            \\\n",
              "        median count         mean       std median count      mean       std   \n",
              "Cluster                                                                        \n",
              "1          0.0   392          0.0  0.000000    0.0   392  0.000000  0.000000   \n",
              "2          1.0   229          0.4  0.490966    0.0   230  0.508696  0.501015   \n",
              "3          1.0   345          1.0  0.000000    1.0   345  0.000000  0.000000   \n",
              "\n",
              "                      sell_tax                         \n",
              "        median count      mean       std median count  \n",
              "Cluster                                                \n",
              "1          0.0   392  0.000000  0.000000    0.0   392  \n",
              "2          1.0   230  0.517391  0.500787    1.0   230  \n",
              "3          0.0   345  0.000000  0.000000    0.0   345  "
            ],
            "text/html": [
              "\n",
              "  <div id=\"df-194fad76-57e6-44dd-980f-3bdc3eaff856\" class=\"colab-df-container\">\n",
              "    <div>\n",
              "<style scoped>\n",
              "    .dataframe tbody tr th:only-of-type {\n",
              "        vertical-align: middle;\n",
              "    }\n",
              "\n",
              "    .dataframe tbody tr th {\n",
              "        vertical-align: top;\n",
              "    }\n",
              "\n",
              "    .dataframe thead tr th {\n",
              "        text-align: left;\n",
              "    }\n",
              "\n",
              "    .dataframe thead tr:last-of-type th {\n",
              "        text-align: right;\n",
              "    }\n",
              "</style>\n",
              "<table border=\"1\" class=\"dataframe\">\n",
              "  <thead>\n",
              "    <tr>\n",
              "      <th></th>\n",
              "      <th colspan=\"4\" halign=\"left\">encode_packed_collision</th>\n",
              "      <th colspan=\"4\" halign=\"left\">bad_contract</th>\n",
              "      <th colspan=\"4\" halign=\"left\">exploitation</th>\n",
              "      <th colspan=\"4\" halign=\"left\">buy_tax</th>\n",
              "      <th colspan=\"4\" halign=\"left\">sell_tax</th>\n",
              "    </tr>\n",
              "    <tr>\n",
              "      <th></th>\n",
              "      <th>mean</th>\n",
              "      <th>std</th>\n",
              "      <th>median</th>\n",
              "      <th>count</th>\n",
              "      <th>mean</th>\n",
              "      <th>std</th>\n",
              "      <th>median</th>\n",
              "      <th>count</th>\n",
              "      <th>mean</th>\n",
              "      <th>std</th>\n",
              "      <th>median</th>\n",
              "      <th>count</th>\n",
              "      <th>mean</th>\n",
              "      <th>std</th>\n",
              "      <th>median</th>\n",
              "      <th>count</th>\n",
              "      <th>mean</th>\n",
              "      <th>std</th>\n",
              "      <th>median</th>\n",
              "      <th>count</th>\n",
              "    </tr>\n",
              "    <tr>\n",
              "      <th>Cluster</th>\n",
              "      <th></th>\n",
              "      <th></th>\n",
              "      <th></th>\n",
              "      <th></th>\n",
              "      <th></th>\n",
              "      <th></th>\n",
              "      <th></th>\n",
              "      <th></th>\n",
              "      <th></th>\n",
              "      <th></th>\n",
              "      <th></th>\n",
              "      <th></th>\n",
              "      <th></th>\n",
              "      <th></th>\n",
              "      <th></th>\n",
              "      <th></th>\n",
              "      <th></th>\n",
              "      <th></th>\n",
              "      <th></th>\n",
              "      <th></th>\n",
              "    </tr>\n",
              "  </thead>\n",
              "  <tbody>\n",
              "    <tr>\n",
              "      <th>1</th>\n",
              "      <td>0.0</td>\n",
              "      <td>0.000000</td>\n",
              "      <td>0.0</td>\n",
              "      <td>392</td>\n",
              "      <td>0.0</td>\n",
              "      <td>0.000000</td>\n",
              "      <td>0.0</td>\n",
              "      <td>392</td>\n",
              "      <td>0.0</td>\n",
              "      <td>0.000000</td>\n",
              "      <td>0.0</td>\n",
              "      <td>392</td>\n",
              "      <td>0.000000</td>\n",
              "      <td>0.000000</td>\n",
              "      <td>0.0</td>\n",
              "      <td>392</td>\n",
              "      <td>0.000000</td>\n",
              "      <td>0.000000</td>\n",
              "      <td>0.0</td>\n",
              "      <td>392</td>\n",
              "    </tr>\n",
              "    <tr>\n",
              "      <th>2</th>\n",
              "      <td>0.349345</td>\n",
              "      <td>0.477808</td>\n",
              "      <td>0.0</td>\n",
              "      <td>229</td>\n",
              "      <td>0.641921</td>\n",
              "      <td>0.480486</td>\n",
              "      <td>1.0</td>\n",
              "      <td>229</td>\n",
              "      <td>0.4</td>\n",
              "      <td>0.490966</td>\n",
              "      <td>0.0</td>\n",
              "      <td>230</td>\n",
              "      <td>0.508696</td>\n",
              "      <td>0.501015</td>\n",
              "      <td>1.0</td>\n",
              "      <td>230</td>\n",
              "      <td>0.517391</td>\n",
              "      <td>0.500787</td>\n",
              "      <td>1.0</td>\n",
              "      <td>230</td>\n",
              "    </tr>\n",
              "    <tr>\n",
              "      <th>3</th>\n",
              "      <td>0.0</td>\n",
              "      <td>0.000000</td>\n",
              "      <td>0.0</td>\n",
              "      <td>345</td>\n",
              "      <td>0.582609</td>\n",
              "      <td>0.493845</td>\n",
              "      <td>1.0</td>\n",
              "      <td>345</td>\n",
              "      <td>1.0</td>\n",
              "      <td>0.000000</td>\n",
              "      <td>1.0</td>\n",
              "      <td>345</td>\n",
              "      <td>0.000000</td>\n",
              "      <td>0.000000</td>\n",
              "      <td>0.0</td>\n",
              "      <td>345</td>\n",
              "      <td>0.000000</td>\n",
              "      <td>0.000000</td>\n",
              "      <td>0.0</td>\n",
              "      <td>345</td>\n",
              "    </tr>\n",
              "  </tbody>\n",
              "</table>\n",
              "</div>\n",
              "    <div class=\"colab-df-buttons\">\n",
              "\n",
              "  <div class=\"colab-df-container\">\n",
              "    <button class=\"colab-df-convert\" onclick=\"convertToInteractive('df-194fad76-57e6-44dd-980f-3bdc3eaff856')\"\n",
              "            title=\"Convert this dataframe to an interactive table.\"\n",
              "            style=\"display:none;\">\n",
              "\n",
              "  <svg xmlns=\"http://www.w3.org/2000/svg\" height=\"24px\" viewBox=\"0 -960 960 960\">\n",
              "    <path d=\"M120-120v-720h720v720H120Zm60-500h600v-160H180v160Zm220 220h160v-160H400v160Zm0 220h160v-160H400v160ZM180-400h160v-160H180v160Zm440 0h160v-160H620v160ZM180-180h160v-160H180v160Zm440 0h160v-160H620v160Z\"/>\n",
              "  </svg>\n",
              "    </button>\n",
              "\n",
              "  <style>\n",
              "    .colab-df-container {\n",
              "      display:flex;\n",
              "      gap: 12px;\n",
              "    }\n",
              "\n",
              "    .colab-df-convert {\n",
              "      background-color: #E8F0FE;\n",
              "      border: none;\n",
              "      border-radius: 50%;\n",
              "      cursor: pointer;\n",
              "      display: none;\n",
              "      fill: #1967D2;\n",
              "      height: 32px;\n",
              "      padding: 0 0 0 0;\n",
              "      width: 32px;\n",
              "    }\n",
              "\n",
              "    .colab-df-convert:hover {\n",
              "      background-color: #E2EBFA;\n",
              "      box-shadow: 0px 1px 2px rgba(60, 64, 67, 0.3), 0px 1px 3px 1px rgba(60, 64, 67, 0.15);\n",
              "      fill: #174EA6;\n",
              "    }\n",
              "\n",
              "    .colab-df-buttons div {\n",
              "      margin-bottom: 4px;\n",
              "    }\n",
              "\n",
              "    [theme=dark] .colab-df-convert {\n",
              "      background-color: #3B4455;\n",
              "      fill: #D2E3FC;\n",
              "    }\n",
              "\n",
              "    [theme=dark] .colab-df-convert:hover {\n",
              "      background-color: #434B5C;\n",
              "      box-shadow: 0px 1px 3px 1px rgba(0, 0, 0, 0.15);\n",
              "      filter: drop-shadow(0px 1px 2px rgba(0, 0, 0, 0.3));\n",
              "      fill: #FFFFFF;\n",
              "    }\n",
              "  </style>\n",
              "\n",
              "    <script>\n",
              "      const buttonEl =\n",
              "        document.querySelector('#df-194fad76-57e6-44dd-980f-3bdc3eaff856 button.colab-df-convert');\n",
              "      buttonEl.style.display =\n",
              "        google.colab.kernel.accessAllowed ? 'block' : 'none';\n",
              "\n",
              "      async function convertToInteractive(key) {\n",
              "        const element = document.querySelector('#df-194fad76-57e6-44dd-980f-3bdc3eaff856');\n",
              "        const dataTable =\n",
              "          await google.colab.kernel.invokeFunction('convertToInteractive',\n",
              "                                                    [key], {});\n",
              "        if (!dataTable) return;\n",
              "\n",
              "        const docLinkHtml = 'Like what you see? Visit the ' +\n",
              "          '<a target=\"_blank\" href=https://colab.research.google.com/notebooks/data_table.ipynb>data table notebook</a>'\n",
              "          + ' to learn more about interactive tables.';\n",
              "        element.innerHTML = '';\n",
              "        dataTable['output_type'] = 'display_data';\n",
              "        await google.colab.output.renderOutput(dataTable, element);\n",
              "        const docLink = document.createElement('div');\n",
              "        docLink.innerHTML = docLinkHtml;\n",
              "        element.appendChild(docLink);\n",
              "      }\n",
              "    </script>\n",
              "  </div>\n",
              "\n",
              "\n",
              "<div id=\"df-cee58813-3e7f-4d75-95bc-915b6488f545\">\n",
              "  <button class=\"colab-df-quickchart\" onclick=\"quickchart('df-cee58813-3e7f-4d75-95bc-915b6488f545')\"\n",
              "            title=\"Suggest charts\"\n",
              "            style=\"display:none;\">\n",
              "\n",
              "<svg xmlns=\"http://www.w3.org/2000/svg\" height=\"24px\"viewBox=\"0 0 24 24\"\n",
              "     width=\"24px\">\n",
              "    <g>\n",
              "        <path d=\"M19 3H5c-1.1 0-2 .9-2 2v14c0 1.1.9 2 2 2h14c1.1 0 2-.9 2-2V5c0-1.1-.9-2-2-2zM9 17H7v-7h2v7zm4 0h-2V7h2v10zm4 0h-2v-4h2v4z\"/>\n",
              "    </g>\n",
              "</svg>\n",
              "  </button>\n",
              "\n",
              "<style>\n",
              "  .colab-df-quickchart {\n",
              "      --bg-color: #E8F0FE;\n",
              "      --fill-color: #1967D2;\n",
              "      --hover-bg-color: #E2EBFA;\n",
              "      --hover-fill-color: #174EA6;\n",
              "      --disabled-fill-color: #AAA;\n",
              "      --disabled-bg-color: #DDD;\n",
              "  }\n",
              "\n",
              "  [theme=dark] .colab-df-quickchart {\n",
              "      --bg-color: #3B4455;\n",
              "      --fill-color: #D2E3FC;\n",
              "      --hover-bg-color: #434B5C;\n",
              "      --hover-fill-color: #FFFFFF;\n",
              "      --disabled-bg-color: #3B4455;\n",
              "      --disabled-fill-color: #666;\n",
              "  }\n",
              "\n",
              "  .colab-df-quickchart {\n",
              "    background-color: var(--bg-color);\n",
              "    border: none;\n",
              "    border-radius: 50%;\n",
              "    cursor: pointer;\n",
              "    display: none;\n",
              "    fill: var(--fill-color);\n",
              "    height: 32px;\n",
              "    padding: 0;\n",
              "    width: 32px;\n",
              "  }\n",
              "\n",
              "  .colab-df-quickchart:hover {\n",
              "    background-color: var(--hover-bg-color);\n",
              "    box-shadow: 0 1px 2px rgba(60, 64, 67, 0.3), 0 1px 3px 1px rgba(60, 64, 67, 0.15);\n",
              "    fill: var(--button-hover-fill-color);\n",
              "  }\n",
              "\n",
              "  .colab-df-quickchart-complete:disabled,\n",
              "  .colab-df-quickchart-complete:disabled:hover {\n",
              "    background-color: var(--disabled-bg-color);\n",
              "    fill: var(--disabled-fill-color);\n",
              "    box-shadow: none;\n",
              "  }\n",
              "\n",
              "  .colab-df-spinner {\n",
              "    border: 2px solid var(--fill-color);\n",
              "    border-color: transparent;\n",
              "    border-bottom-color: var(--fill-color);\n",
              "    animation:\n",
              "      spin 1s steps(1) infinite;\n",
              "  }\n",
              "\n",
              "  @keyframes spin {\n",
              "    0% {\n",
              "      border-color: transparent;\n",
              "      border-bottom-color: var(--fill-color);\n",
              "      border-left-color: var(--fill-color);\n",
              "    }\n",
              "    20% {\n",
              "      border-color: transparent;\n",
              "      border-left-color: var(--fill-color);\n",
              "      border-top-color: var(--fill-color);\n",
              "    }\n",
              "    30% {\n",
              "      border-color: transparent;\n",
              "      border-left-color: var(--fill-color);\n",
              "      border-top-color: var(--fill-color);\n",
              "      border-right-color: var(--fill-color);\n",
              "    }\n",
              "    40% {\n",
              "      border-color: transparent;\n",
              "      border-right-color: var(--fill-color);\n",
              "      border-top-color: var(--fill-color);\n",
              "    }\n",
              "    60% {\n",
              "      border-color: transparent;\n",
              "      border-right-color: var(--fill-color);\n",
              "    }\n",
              "    80% {\n",
              "      border-color: transparent;\n",
              "      border-right-color: var(--fill-color);\n",
              "      border-bottom-color: var(--fill-color);\n",
              "    }\n",
              "    90% {\n",
              "      border-color: transparent;\n",
              "      border-bottom-color: var(--fill-color);\n",
              "    }\n",
              "  }\n",
              "</style>\n",
              "\n",
              "  <script>\n",
              "    async function quickchart(key) {\n",
              "      const quickchartButtonEl =\n",
              "        document.querySelector('#' + key + ' button');\n",
              "      quickchartButtonEl.disabled = true;  // To prevent multiple clicks.\n",
              "      quickchartButtonEl.classList.add('colab-df-spinner');\n",
              "      try {\n",
              "        const charts = await google.colab.kernel.invokeFunction(\n",
              "            'suggestCharts', [key], {});\n",
              "      } catch (error) {\n",
              "        console.error('Error during call to suggestCharts:', error);\n",
              "      }\n",
              "      quickchartButtonEl.classList.remove('colab-df-spinner');\n",
              "      quickchartButtonEl.classList.add('colab-df-quickchart-complete');\n",
              "    }\n",
              "    (() => {\n",
              "      let quickchartButtonEl =\n",
              "        document.querySelector('#df-cee58813-3e7f-4d75-95bc-915b6488f545 button');\n",
              "      quickchartButtonEl.style.display =\n",
              "        google.colab.kernel.accessAllowed ? 'block' : 'none';\n",
              "    })();\n",
              "  </script>\n",
              "</div>\n",
              "\n",
              "  <div id=\"id_dd4b43fa-a049-495f-9332-0e58b5997b2c\">\n",
              "    <style>\n",
              "      .colab-df-generate {\n",
              "        background-color: #E8F0FE;\n",
              "        border: none;\n",
              "        border-radius: 50%;\n",
              "        cursor: pointer;\n",
              "        display: none;\n",
              "        fill: #1967D2;\n",
              "        height: 32px;\n",
              "        padding: 0 0 0 0;\n",
              "        width: 32px;\n",
              "      }\n",
              "\n",
              "      .colab-df-generate:hover {\n",
              "        background-color: #E2EBFA;\n",
              "        box-shadow: 0px 1px 2px rgba(60, 64, 67, 0.3), 0px 1px 3px 1px rgba(60, 64, 67, 0.15);\n",
              "        fill: #174EA6;\n",
              "      }\n",
              "\n",
              "      [theme=dark] .colab-df-generate {\n",
              "        background-color: #3B4455;\n",
              "        fill: #D2E3FC;\n",
              "      }\n",
              "\n",
              "      [theme=dark] .colab-df-generate:hover {\n",
              "        background-color: #434B5C;\n",
              "        box-shadow: 0px 1px 3px 1px rgba(0, 0, 0, 0.15);\n",
              "        filter: drop-shadow(0px 1px 2px rgba(0, 0, 0, 0.3));\n",
              "        fill: #FFFFFF;\n",
              "      }\n",
              "    </style>\n",
              "    <button class=\"colab-df-generate\" onclick=\"generateWithVariable('cluster_summary')\"\n",
              "            title=\"Generate code using this dataframe.\"\n",
              "            style=\"display:none;\">\n",
              "\n",
              "  <svg xmlns=\"http://www.w3.org/2000/svg\" height=\"24px\"viewBox=\"0 0 24 24\"\n",
              "       width=\"24px\">\n",
              "    <path d=\"M7,19H8.4L18.45,9,17,7.55,7,17.6ZM5,21V16.75L18.45,3.32a2,2,0,0,1,2.83,0l1.4,1.43a1.91,1.91,0,0,1,.58,1.4,1.91,1.91,0,0,1-.58,1.4L9.25,21ZM18.45,9,17,7.55Zm-12,3A5.31,5.31,0,0,0,4.9,8.1,5.31,5.31,0,0,0,1,6.5,5.31,5.31,0,0,0,4.9,4.9,5.31,5.31,0,0,0,6.5,1,5.31,5.31,0,0,0,8.1,4.9,5.31,5.31,0,0,0,12,6.5,5.46,5.46,0,0,0,6.5,12Z\"/>\n",
              "  </svg>\n",
              "    </button>\n",
              "    <script>\n",
              "      (() => {\n",
              "      const buttonEl =\n",
              "        document.querySelector('#id_dd4b43fa-a049-495f-9332-0e58b5997b2c button.colab-df-generate');\n",
              "      buttonEl.style.display =\n",
              "        google.colab.kernel.accessAllowed ? 'block' : 'none';\n",
              "\n",
              "      buttonEl.onclick = () => {\n",
              "        google.colab.notebook.generateWithVariable('cluster_summary');\n",
              "      }\n",
              "      })();\n",
              "    </script>\n",
              "  </div>\n",
              "\n",
              "    </div>\n",
              "  </div>\n"
            ],
            "application/vnd.google.colaboratory.intrinsic+json": {
              "type": "dataframe",
              "variable_name": "cluster_summary",
              "summary": "{\n  \"name\": \"cluster_summary\",\n  \"rows\": 3,\n  \"fields\": [\n    {\n      \"column\": [\n        \"Cluster\",\n        \"\"\n      ],\n      \"properties\": {\n        \"dtype\": \"int32\",\n        \"num_unique_values\": 3,\n        \"samples\": [\n          1,\n          2,\n          3\n        ],\n        \"semantic_type\": \"\",\n        \"description\": \"\"\n      }\n    },\n    {\n      \"column\": [\n        \"encode_packed_collision\",\n        \"mean\"\n      ],\n      \"properties\": {\n        \"dtype\": \"date\",\n        \"min\": 0.0,\n        \"max\": 0.34934497816593885,\n        \"num_unique_values\": 2,\n        \"samples\": [\n          0.34934497816593885,\n          0.0\n        ],\n        \"semantic_type\": \"\",\n        \"description\": \"\"\n      }\n    },\n    {\n      \"column\": [\n        \"encode_packed_collision\",\n        \"std\"\n      ],\n      \"properties\": {\n        \"dtype\": \"number\",\n        \"std\": 0.2758622891112363,\n        \"min\": 0.0,\n        \"max\": 0.47780750063291594,\n        \"num_unique_values\": 2,\n        \"samples\": [\n          0.47780750063291594,\n          0.0\n        ],\n        \"semantic_type\": \"\",\n        \"description\": \"\"\n      }\n    },\n    {\n      \"column\": [\n        \"encode_packed_collision\",\n        \"median\"\n      ],\n      \"properties\": {\n        \"dtype\": \"date\",\n        \"min\": 0.0,\n        \"max\": 0.0,\n        \"num_unique_values\": 1,\n        \"samples\": [\n          0.0\n        ],\n        \"semantic_type\": \"\",\n        \"description\": \"\"\n      }\n    },\n    {\n      \"column\": [\n        \"encode_packed_collision\",\n        \"count\"\n      ],\n      \"properties\": {\n        \"dtype\": \"number\",\n        \"std\": 83,\n        \"min\": 229,\n        \"max\": 392,\n        \"num_unique_values\": 3,\n        \"samples\": [\n          392\n        ],\n        \"semantic_type\": \"\",\n        \"description\": \"\"\n      }\n    },\n    {\n      \"column\": [\n        \"bad_contract\",\n        \"mean\"\n      ],\n      \"properties\": {\n        \"dtype\": \"date\",\n        \"min\": 0.0,\n        \"max\": 0.6419213973799127,\n        \"num_unique_values\": 3,\n        \"samples\": [\n          0.0\n        ],\n        \"semantic_type\": \"\",\n        \"description\": \"\"\n      }\n    },\n    {\n      \"column\": [\n        \"bad_contract\",\n        \"std\"\n      ],\n      \"properties\": {\n        \"dtype\": \"number\",\n        \"std\": 0.28134428629772845,\n        \"min\": 0.0,\n        \"max\": 0.49384482361151344,\n        \"num_unique_values\": 3,\n        \"samples\": [\n          0.0\n        ],\n        \"semantic_type\": \"\",\n        \"description\": \"\"\n      }\n    },\n    {\n      \"column\": [\n        \"bad_contract\",\n        \"median\"\n      ],\n      \"properties\": {\n        \"dtype\": \"date\",\n        \"min\": 0.0,\n        \"max\": 1.0,\n        \"num_unique_values\": 2,\n        \"samples\": [\n          1.0\n        ],\n        \"semantic_type\": \"\",\n        \"description\": \"\"\n      }\n    },\n    {\n      \"column\": [\n        \"bad_contract\",\n        \"count\"\n      ],\n      \"properties\": {\n        \"dtype\": \"number\",\n        \"std\": 83,\n        \"min\": 229,\n        \"max\": 392,\n        \"num_unique_values\": 3,\n        \"samples\": [\n          392\n        ],\n        \"semantic_type\": \"\",\n        \"description\": \"\"\n      }\n    },\n    {\n      \"column\": [\n        \"exploitation\",\n        \"mean\"\n      ],\n      \"properties\": {\n        \"dtype\": \"number\",\n        \"std\": 0.5033222956847166,\n        \"min\": 0.0,\n        \"max\": 1.0,\n        \"num_unique_values\": 3,\n        \"samples\": [\n          0.0\n        ],\n        \"semantic_type\": \"\",\n        \"description\": \"\"\n      }\n    },\n    {\n      \"column\": [\n        \"exploitation\",\n        \"std\"\n      ],\n      \"properties\": {\n        \"dtype\": \"number\",\n        \"std\": 0.2834596002575427,\n        \"min\": 0.0,\n        \"max\": 0.490966429539228,\n        \"num_unique_values\": 2,\n        \"samples\": [\n          0.490966429539228\n        ],\n        \"semantic_type\": \"\",\n        \"description\": \"\"\n      }\n    },\n    {\n      \"column\": [\n        \"exploitation\",\n        \"median\"\n      ],\n      \"properties\": {\n        \"dtype\": \"number\",\n        \"std\": 0.5773502691896258,\n        \"min\": 0.0,\n        \"max\": 1.0,\n        \"num_unique_values\": 2,\n        \"samples\": [\n          1.0\n        ],\n        \"semantic_type\": \"\",\n        \"description\": \"\"\n      }\n    },\n    {\n      \"column\": [\n        \"exploitation\",\n        \"count\"\n      ],\n      \"properties\": {\n        \"dtype\": \"number\",\n        \"std\": 83,\n        \"min\": 230,\n        \"max\": 392,\n        \"num_unique_values\": 3,\n        \"samples\": [\n          392\n        ],\n        \"semantic_type\": \"\",\n        \"description\": \"\"\n      }\n    },\n    {\n      \"column\": [\n        \"buy_tax\",\n        \"mean\"\n      ],\n      \"properties\": {\n        \"dtype\": \"number\",\n        \"std\": 0.2936955717182009,\n        \"min\": 0.0,\n        \"max\": 0.508695652173913,\n        \"num_unique_values\": 2,\n        \"samples\": [\n          0.508695652173913\n        ],\n        \"semantic_type\": \"\",\n        \"description\": \"\"\n      }\n    },\n    {\n      \"column\": [\n        \"buy_tax\",\n        \"std\"\n      ],\n      \"properties\": {\n        \"dtype\": \"number\",\n        \"std\": 0.2892609885531851,\n        \"min\": 0.0,\n        \"max\": 0.501014728821716,\n        \"num_unique_values\": 2,\n        \"samples\": [\n          0.501014728821716\n        ],\n        \"semantic_type\": \"\",\n        \"description\": \"\"\n      }\n    },\n    {\n      \"column\": [\n        \"buy_tax\",\n        \"median\"\n      ],\n      \"properties\": {\n        \"dtype\": \"number\",\n        \"std\": 0.5773502691896258,\n        \"min\": 0.0,\n        \"max\": 1.0,\n        \"num_unique_values\": 2,\n        \"samples\": [\n          1.0\n        ],\n        \"semantic_type\": \"\",\n        \"description\": \"\"\n      }\n    },\n    {\n      \"column\": [\n        \"buy_tax\",\n        \"count\"\n      ],\n      \"properties\": {\n        \"dtype\": \"number\",\n        \"std\": 83,\n        \"min\": 230,\n        \"max\": 392,\n        \"num_unique_values\": 3,\n        \"samples\": [\n          392\n        ],\n        \"semantic_type\": \"\",\n        \"description\": \"\"\n      }\n    },\n    {\n      \"column\": [\n        \"sell_tax\",\n        \"mean\"\n      ],\n      \"properties\": {\n        \"dtype\": \"number\",\n        \"std\": 0.298716008841589,\n        \"min\": 0.0,\n        \"max\": 0.5173913043478261,\n        \"num_unique_values\": 2,\n        \"samples\": [\n          0.5173913043478261\n        ],\n        \"semantic_type\": \"\",\n        \"description\": \"\"\n      }\n    },\n    {\n      \"column\": [\n        \"sell_tax\",\n        \"std\"\n      ],\n      \"properties\": {\n        \"dtype\": \"number\",\n        \"std\": 0.289129685328738,\n        \"min\": 0.0,\n        \"max\": 0.5007873049657761,\n        \"num_unique_values\": 2,\n        \"samples\": [\n          0.5007873049657761\n        ],\n        \"semantic_type\": \"\",\n        \"description\": \"\"\n      }\n    },\n    {\n      \"column\": [\n        \"sell_tax\",\n        \"median\"\n      ],\n      \"properties\": {\n        \"dtype\": \"number\",\n        \"std\": 0.5773502691896258,\n        \"min\": 0.0,\n        \"max\": 1.0,\n        \"num_unique_values\": 2,\n        \"samples\": [\n          1.0\n        ],\n        \"semantic_type\": \"\",\n        \"description\": \"\"\n      }\n    },\n    {\n      \"column\": [\n        \"sell_tax\",\n        \"count\"\n      ],\n      \"properties\": {\n        \"dtype\": \"number\",\n        \"std\": 83,\n        \"min\": 230,\n        \"max\": 392,\n        \"num_unique_values\": 3,\n        \"samples\": [\n          392\n        ],\n        \"semantic_type\": \"\",\n        \"description\": \"\"\n      }\n    }\n  ]\n}"
            }
          },
          "metadata": {},
          "execution_count": 51
        }
      ]
    },
    {
      "cell_type": "markdown",
      "source": [
        "Now we shall plot histogram of cluster labels to see distribution of cluster sizes"
      ],
      "metadata": {
        "id": "KnTaQWULapHU"
      }
    },
    {
      "cell_type": "code",
      "source": [
        "# Plot histogram of cluster labels to see distribution of cluster sizes\n",
        "plt.figure(figsize=(10, 6))\n",
        "plt.hist(cluster_labels, bins=np.arange(1, np.max(cluster_labels)+2)-0.5, rwidth=0.8, color = 'blue', alpha=0.7)\n",
        "plt.xlabel('Cluster')\n",
        "plt.ylabel('Number of points')\n",
        "plt.xticks(np.arange(1, np.max(cluster_labels)+1))\n",
        "plt.title('Histogram of Cluster Sizes')\n",
        "plt.show()"
      ],
      "metadata": {
        "colab": {
          "base_uri": "https://localhost:8080/",
          "height": 564
        },
        "id": "9UOIDWJnahBb",
        "outputId": "35058283-44c0-4160-ea8b-0c131cedfef9"
      },
      "execution_count": null,
      "outputs": [
        {
          "output_type": "display_data",
          "data": {
            "text/plain": [
              "<Figure size 1000x600 with 1 Axes>"
            ],
            "image/png": "[encoded data removed]"
          },
          "metadata": {}
        }
      ]
    },
    {
      "cell_type": "code",
      "source": [
        "# Calculate the mean for each cluster and feature\n",
        "cluster_centers = data_new[[feature_1, feature_2, feature_3, feature_4, feature_5, 'Cluster']].groupby('Cluster').mean()\n",
        "cluster_centers = cluster_centers.apply(pd.to_numeric, errors='coerce')\n",
        "# Plot the heatmap\n",
        "plt.figure(figsize=(10, 6))\n",
        "sns.heatmap(cluster_centers, annot=True, cmap='coolwarm')\n",
        "plt.xlabel('Features')\n",
        "plt.ylabel('Cluster')\n",
        "plt.title('Heatmap of Cluster Centroids')\n",
        "plt.show()"
      ],
      "metadata": {
        "colab": {
          "base_uri": "https://localhost:8080/",
          "height": 721
        },
        "id": "7YRPpJDpbdtN",
        "outputId": "9753b607-8df6-41a1-839b-da5e77570b07"
      },
      "execution_count": null,
      "outputs": [
        {
          "output_type": "display_data",
          "data": {
            "text/plain": [
              "<Figure size 1000x600 with 2 Axes>"
            ],
            "image/png": "[encoded data removed]"
          },
          "metadata": {}
        }
      ]
    },
    {
      "cell_type": "markdown",
      "source": [
        "Here we observe that:\n",
        "\n",
        "\n",
        "*   Cluster 1: All features are 0. This suggests that this cluster groups the smart contracts (or other entities) that do not have the risk factors being measured. These might be considered the 'safest' or least problematic contracts in terms of the specific risks tracked.\n",
        "*   Cluster 2: 'buy_tax' (0.51) and 'sell_tax' (0.52) combined with 'bad_contract' (0.54) have a high average, while 'encode_packed_collision' and 'exploitation' are slightly lower(0.35 and 0.0.4 respectively). This indicates that this cluster predominantly consists of contracts where there is likely hidden taxes in selling and buying that makes it a bad contract facing the risk of collapsing while they are also fragile for data is tightly packed together and there is hidden flaw in a safe to crack it open and steal the contents(steal funds or disrupt operations).\n",
        "\n",
        "*   Cluster 3: The average for 'exploitation' in this cluster is shown as 1, while 'bad_contract' has an average as 0.58 and the other 3 is 0. It indicates that\n",
        "all smart contracts in this cluster is under the risk of being taken advantage of vulnerabilities to steal funds or disrupt operations and make them bad contracts. There are no hiden taxes in selling or buying\n",
        " and data is not tightly packed here."
      ],
      "metadata": {
        "id": "bNIJaF0T_FSl"
      }
    },
    {
      "cell_type": "markdown",
      "source": [
        "# Summary of Insights"
      ],
      "metadata": {
        "id": "WS0Lv8mt4o3V"
      }
    },
    {
      "cell_type": "markdown",
      "source": [
        "\n",
        "\n",
        "1.   **Risk Profiling:**\n",
        "\n",
        "\n",
        "*   **Cluster 1:** Cluster 1 might represent a 'low-risk' group where none of the surveyed risk factors are prominent.\n",
        "*   **Cluster 2:** Cluster 2 appears to represent contracts that might be used for more obscure or potentially shady purposes given the high incidence of all possible risk tags we focus here. The relatively high presense of all risks could mean these contracts are not sophisticated or careful designed that would trigger these security vulnerabilities.\n",
        "*   **Cluster 3:** Cluster 3 appears to represent contracts which are under the risk of being taken advantages of vulnerabilities to steal funds or disruptive operations and this might be the reason why they are defined as bad contracts. Also, other risk tags that Cluster 2 shows us are not found here, which indicates that these contracts are sophisticated or careful not to trigger common security vulnerabilities.\n",
        "\n",
        "\n",
        "2.   **Targeted Actions or Further Analysis:**\n",
        "\n",
        "\n",
        "*   **For Cluster 1,** further investigation could could confirm if these contracts indeed represent best practices or if they have other less common risks not captured by the current data.\n",
        "*   **For Cluster 2,** deeper dives could be done to understand why these contracts are under all these risks, for example, try to find out why hidden taxes in buying and selling are often found in these contracts. Are there legitimate privacy or security reasons, or might it suggest potential for misuse? Additional features could be analyzed to determine if there are other subtle risk factors associated.\n",
        "*   **For Cluster 3,** we should focus ont he reason why these contracts all have the same risk tag: 'exploitation'. Try to capture the similarity that they have so that this risk tag is well found among them. Like the cluster two, more features are suggested to analyze so that we may determine whether there are other assocaited factors are hidden in these contracts.\n",
        "\n",
        "3. **Policy or Monitoring Adjustments:**\n",
        "\n",
        "\n",
        "*   Contracts in Cluster 2 might warrant stricter monitoring or additional scrutiny in audit processes, particularly focusing on legality and transparency issues to get rid of being under high risks of plentiful risks\n",
        "*   Contracts in Cluster 3 should be paid more attention to security check and make sure no hidden flaws or vulnerabilities are taken advantages of or exposed to the potential attackers so that stealing funds or disrupting operations could be avoided.\n",
        "*   Enhancements in risk detection tools might be necessary to better capture the nuanced risk profiles observed in different clusters.\n",
        "\n",
        "* **Adaptive Compliance Protocols:**\n",
        "  * **Customized Compliance Checks** For contracts falling within specific risk clusters, especially those associated with high-risk vulnerabilities, it may be crucial to develop customized compliance protocols. These protocols could focus on the unique aspects of each cluster, ensuring that the smart contracts comply with both internal governance standards and external regulatory requirements.\n",
        "\n",
        "  * **Dynamic Legal Frameworks:** Adapting legal frameworks to accommodate the specific needs and risk factors of different clusters can help in preempting legal issues. This involves aligning contract terms and operations with the latest legal standards pertinent to the nature of risks identified in each cluster.\n",
        "\n",
        "* **Advanced Monitoring Techniques:**\n",
        "\n",
        "  * **Real-Time Risk Tracking:** Implementing real-time monitoring systems that specifically track the emergence of risk factors associated with particular clusters can provide early warnings to developers and stakeholders. This proactive surveillance helps in timely interventions before vulnerabilities can be exploited.\n",
        "\n",
        "  * **Enhanced Audit Trails:** For clusters identified with transparency or legality concerns, enhancing audit trail mechanisms can provide deeper insights and traceability. This not only aids in thorough audits but also builds a foundation for accountability and trust among users and regulatory bodies.\n",
        "\n",
        "\n"
      ],
      "metadata": {
        "id": "5khLQe5s_Bi5"
      }
    },
    {
      "cell_type": "markdown",
      "source": [
        "###Step 3: Suggestions on Further Analysis:"
      ],
      "metadata": {
        "id": "nwNXmNGhEMgO"
      }
    },
    {
      "cell_type": "markdown",
      "source": [
        "\n",
        "\n",
        "1.   **Add More Features:**\n",
        "\n",
        "\n",
        "  *   **Integration of External Data:** Incorporate external data sources such as real-time market volatility data or historical breach reports related to similar smart contracts. This can help in identifying whether external market conditions influence the risk profiles of specific clusters.\n",
        "  *   **Behavioral Analytics:** Add features that capture the behavior of contract interactors, such as frequency and timing of transactions, or unusual patterns of activity. For example, a spike in transaction frequency just before a contract expiration could be a potential risk indicator.\n",
        "\n",
        "\n",
        "2.   **Use Different Algorithms:**\n",
        "\n",
        "* **Density-Based Clustering:** Implement algorithms like DBSCAN (Density-Based Spatial Clustering of Applications with Noise) or OPTICS (Ordering Points To Identify the Clustering Structure) to identify clusters based on density rather than distance. This might reveal tightly knit groups of contracts that exhibit high-risk characteristics only under specific conditions.\n",
        "\n",
        "* **Hierarchical Clustering:** Use hierarchical clustering to build a tree of clusters. This approach can help in understanding not just the clusters themselves but also how they relate to each other at different levels of aggregation. For instance, you might find that certain subclusters within a high-risk cluster are actually low risk, offering more nuanced insights into risk management strategies.\n",
        "\n",
        "\n",
        "3. **Adjust Clustering Parameters:**\n",
        "\n",
        "* **Varying the Number of Clusters:** Experiment with different numbers of clusters to check how granularity affects risk perception. Reducing the number of clusters might merge some risk categories, providing a broader view, while increasing them could help pinpoint very specific risk scenarios.\n",
        "\n",
        "* **Feature Weighting:** Adjust the weights of certain features to see how they influence the clustering. For example, increasing the weight of features related to code complexity might reveal new clusters that are particularly prone to bugs due to their complex coding patterns.\n",
        "\n"
      ],
      "metadata": {
        "id": "e5fNP1_sQINm"
      }
    }
  ]
}